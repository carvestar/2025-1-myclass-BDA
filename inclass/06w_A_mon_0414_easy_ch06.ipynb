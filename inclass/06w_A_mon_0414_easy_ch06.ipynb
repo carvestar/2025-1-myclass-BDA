version https://git-lfs.github.com/spec/v1
oid sha256:02bae6362d0fad3de83bf08347271c02326d515e61ce362a75ef20559bd31597
size 1710802
