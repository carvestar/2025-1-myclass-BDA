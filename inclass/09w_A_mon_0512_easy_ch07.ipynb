version https://git-lfs.github.com/spec/v1
oid sha256:068ad38d5ff7b52c1d70a27a30f8ec232880fbc13c7b42cbf93ab232c2239344
size 2837013
