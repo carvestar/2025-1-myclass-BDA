version https://git-lfs.github.com/spec/v1
oid sha256:8a736c37e456cf4ec39e043dd5ea221eb0fc8479f321380b10b74bd7996b5ecf
size 2049257
