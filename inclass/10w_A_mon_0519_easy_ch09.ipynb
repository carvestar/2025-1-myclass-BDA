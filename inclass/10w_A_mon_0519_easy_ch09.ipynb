version https://git-lfs.github.com/spec/v1
oid sha256:02a63ca842991b1cb64f47ffaacf9f01500530c1843268be66f26bd467cb3cc4
size 420866
